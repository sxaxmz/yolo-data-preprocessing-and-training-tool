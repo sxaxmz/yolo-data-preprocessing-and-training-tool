{
  "nbformat": 4,
  "nbformat_minor": 0,
  "metadata": {
    "colab": {
      "name": "yolov3_train_darknet.ipynb",
      "provenance": [],
      "collapsed_sections": []
    },
    "kernelspec": {
      "name": "python3",
      "display_name": "Python 3"
    },
    "accelerator": "GPU"
  },
  "cells": [
    {
      "cell_type": "code",
      "metadata": {
        "id": "zGTDzJK-cxaW"
      },
      "source": [
        "# Classes list\r\n",
        "classes = []"
      ],
      "execution_count": null,
      "outputs": []
    },
    {
      "cell_type": "code",
      "metadata": {
        "id": "bwp6NIrsZZFP"
      },
      "source": [
        "# Check if NVIDIA GPU is enabled\n",
        "!nvidia-smi"
      ],
      "execution_count": null,
      "outputs": []
    },
    {
      "cell_type": "code",
      "metadata": {
        "id": "9e9ZW3sqMEPO"
      },
      "source": [
        "from google.colab import drive\n",
        "drive.mount('/content/gdrive')\n",
        "!ln -s /content/gdrive/My\\ Drive/ /mydrive\n",
        "!ls /mydrive"
      ],
      "execution_count": null,
      "outputs": []
    },
    {
      "cell_type": "code",
      "metadata": {
        "id": "fvYwiu3goGLI"
      },
      "source": [
        "!mkdir \"/mydrive/yolov3\""
      ],
      "execution_count": null,
      "outputs": []
    },
    {
      "cell_type": "markdown",
      "metadata": {
        "id": "t7utW4in4azV"
      },
      "source": [
        "**1) Clone the Darknet**\n",
        "\n"
      ]
    },
    {
      "cell_type": "code",
      "metadata": {
        "id": "e03U7Zi-qMr2"
      },
      "source": [
        "!git clone https://github.com/AlexeyAB/darknet"
      ],
      "execution_count": null,
      "outputs": []
    },
    {
      "cell_type": "markdown",
      "metadata": {
        "id": "7gDOF3mU-TAn"
      },
      "source": [
        "**2) Compile Darknet using Nvidia GPU**\n"
      ]
    },
    {
      "cell_type": "code",
      "metadata": {
        "id": "5H-Taj06Tw1c"
      },
      "source": [
        "# change makefile to have GPU and OPENCV enabled\n",
        "%cd darknet\n",
        "!sed -i 's/OPENCV=0/OPENCV=1/' Makefile\n",
        "!sed -i 's/GPU=0/GPU=1/' Makefile\n",
        "!sed -i 's/CUDNN=0/CUDNN=1/' Makefile\n",
        "!make"
      ],
      "execution_count": null,
      "outputs": []
    },
    {
      "cell_type": "markdown",
      "metadata": {
        "id": "gAOLtA_qI9vF"
      },
      "source": [
        "**3) Configure Darknet network for training YOLO V3**"
      ]
    },
    {
      "cell_type": "code",
      "metadata": {
        "id": "s-RpscgU853t"
      },
      "source": [
        "!cp cfg/yolov3.cfg cfg/yolov3_training.cfg\r\n",
        "!cp cfg/yolov3-voc.cfg cfg/yolov3_testing.cfg"
      ],
      "execution_count": null,
      "outputs": []
    },
    {
      "cell_type": "markdown",
      "metadata": {
        "id": "b8xEdNlcs_iM"
      },
      "source": [
        "'line_number s@current_line @ replaced_content@'"
      ]
    },
    {
      "cell_type": "code",
      "metadata": {
        "id": "5ZgVQRop_vwR"
      },
      "source": [
        "cfg/yolov3_training.cfg\n",
        "!sed -i 's/batch=1/batch=64/' cfg/yolov3_training.cfg\n",
        "!sed -i 's/subdivisions=1/subdivisions=16/' cfg/yolov3_training.cfg\n",
        "!sed -i 's/max_batches = 500200/max_batches = 4000/' cfg/yolov3_training.cfg # max_batches = (number of classes) * 2000\n",
        "!sed -i '22 s/steps=400000,45000/steps=3200,3600/' cfg/yolov3_training.cfg # Steps = (max_batches * 0.8), (max_batches * 0.9)\n",
        "!sed -i '610 s@classes=80@classes=1@' cfg/yolov3_training.cfg\n",
        "!sed -i '696 s@classes=80@classes=1@' cfg/yolov3_training.cfg\n",
        "!sed -i '783 s@classes=80@classes=1@' cfg/yolov3_training.cfg\n",
        "!sed -i '603 s@filters=255@filters=18@' cfg/yolov3_training.cfg # filters=(classes + 5)x3\n",
        "!sed -i '689 s@filters=255@filters=18@' cfg/yolov3_training.cfg\n",
        "!sed -i '776 s@filters=255@filters=18@' cfg/yolov3_training.cfg"
      ],
      "execution_count": null,
      "outputs": []
    },
    {
      "cell_type": "code",
      "metadata": {
        "id": "oQrvMazY-BG9"
      },
      "source": [
        "# cfg/yolov3_testing.cfg\r\n",
        "!sed -i '3 s/batch=1/batch=64/' cfg/yolov3_testing.cfg\r\n",
        "!sed -i '4 s/subdivisions=1/subdivisions=16/' cfg/yolov3_testing.cfg\r\n",
        "!sed -i '20 s/max_batches = 50200/max_batches = 4000/' cfg/yolov3_testing.cfg # max_batches = (number of classes) * 2000\r\n",
        "!sed -i '22 s/steps=400000,45000/steps=3200,3600/' cfg/yolov3_testing.cfg # Steps = (max_batches * 0.8), (max_batches * 0.9)\r\n",
        "!sed -i '611 s@classes=20@classes=1@' cfg/yolov3_testing.cfg\r\n",
        "!sed -i '695 s@classes=20@classes=1@' cfg/yolov3_testing.cfg\r\n",
        "!sed -i '779 s@classes=20@classes=1@' cfg/yolov3_testing.cfg\r\n",
        "!sed -i '605 s@filters=75@filters=18@' cfg/yolov3_testing.cfg # filters=(classes + 5)x3\r\n",
        "!sed -i '689 s@filters=75@filters=18@' cfg/yolov3_testing.cfg\r\n",
        "!sed -i '773 s@filters=75@filters=18@' cfg/yolov3_testing.cfg"
      ],
      "execution_count": null,
      "outputs": []
    },
    {
      "cell_type": "code",
      "metadata": {
        "id": "7AIBw_psIclz"
      },
      "source": [
        "!echo > data/obj.names\n",
        "with open('data/obj.names', 'w') as file:\n",
        "  for class_name in classes:\n",
        "    print(class_name)\n",
        "    file.write(class_name)\n",
        "    file.write(\"\\n\")\n",
        "\n",
        "# Save weights to Drive\n",
        "#!echo -e 'classes= 1\\ntrain  = data/train.txt\\nvalid  = data/test.txt\\nnames = data/obj.names\\nbackup = /mydrive/yolov3' > data/obj.data\n",
        "\n",
        "# Save weights to darknet/backup\n",
        "!echo -e 'classes= 1\\ntrain  = data/train.txt\\nvalid  = data/test.txt\\nnames = data/obj.names\\nbackup = backup/' > cfg/obj.data\n",
        "\n",
        "!mkdir data/obj"
      ],
      "execution_count": null,
      "outputs": []
    },
    {
      "cell_type": "code",
      "metadata": {
        "id": "eZlkzFMW7I_N"
      },
      "source": [
        "# Download weights darknet model 53\n",
        "!wget https://pjreddie.com/media/files/darknet53.conv.74"
      ],
      "execution_count": null,
      "outputs": []
    },
    {
      "cell_type": "markdown",
      "metadata": {
        "id": "9RbVKJjoncW2"
      },
      "source": [
        "**4) Extract Images**\n",
        "\n",
        "Modify image's path accordingly"
      ]
    },
    {
      "cell_type": "code",
      "metadata": {
        "id": "jhb5nZvsQ_96"
      },
      "source": [
        "!unzip /mydrive/yolov3/images.zip -d data/obj"
      ],
      "execution_count": null,
      "outputs": []
    },
    {
      "cell_type": "markdown",
      "metadata": {
        "id": "sfsUTjwEeE3e"
      },
      "source": [
        "Convert class names to object class"
      ]
    },
    {
      "cell_type": "code",
      "metadata": {
        "id": "OuAZ9IyHeDMs"
      },
      "source": [
        "import glob\r\n",
        "import os\r\n",
        "import re\r\n",
        "txt_file_paths = glob.glob(r\"data/obj/images/*.txt\", recursive=True)\r\n",
        "\r\n",
        "for i, file_path in enumerate(txt_file_paths):\r\n",
        "    text_converted = []\r\n",
        "    # get image size\r\n",
        "    with open(file_path, \"r\") as img_txt:\r\n",
        "        lines = img_txt.readlines()\r\n",
        "        for line in lines:\r\n",
        "            object_name = re.findall('[aA-zZ]+', line)\r\n",
        "            numbers = re.findall(\"[0-9.]+\", line)\r\n",
        "            if numbers:\r\n",
        "                # Define coordinates\r\n",
        "                text = \"{} {} {} {} {}\".format(object_name[0], numbers[0], numbers[1], numbers[2], numbers[3])\r\n",
        "                text_converted.append(text)\r\n",
        "                print(i, file_path)\r\n",
        "                print(text)\r\n",
        "        \r\n",
        "        # Write file\r\n",
        "        with open(file_path, 'w') as fp:\r\n",
        "            for item in text_converted:\r\n",
        "                fp.writelines(\"%s\\n\" % item)"
      ],
      "execution_count": null,
      "outputs": []
    },
    {
      "cell_type": "code",
      "metadata": {
        "id": "5I_0ht7ITMUu"
      },
      "source": [
        "import glob\n",
        "images_list = glob.glob(\"data/obj/images/*.png\", recursive=True)\n",
        "print(images_list)"
      ],
      "execution_count": null,
      "outputs": []
    },
    {
      "cell_type": "code",
      "metadata": {
        "id": "ld6n2bN7L8-9"
      },
      "source": [
        "# Split Training and Testing\r\n",
        "train_img_list = []\r\n",
        "test_img_list = []\r\n",
        "\r\n",
        "train_80 = round(len(images_list) * 0.8)\r\n",
        "test_20 = round(len(images_list) * 0.2)\r\n",
        "\r\n",
        "for i in range(0, train_80):\r\n",
        "  train_img_list.append(images_list[i])\r\n",
        "for k in range(train_80, train_80+test_20):\r\n",
        "  test_img_list.append(images_list[k])\r\n",
        "\r\n",
        "print(\"Train Set {}: \\n\".format(len(train_img_list)), train_img_list)\r\n",
        "print(\"Test Set {}: \\n\".format(len(test_img_list)), test_img_list)"
      ],
      "execution_count": null,
      "outputs": []
    },
    {
      "cell_type": "code",
      "metadata": {
        "id": "EzygoAtMSnon"
      },
      "source": [
        "# Create train.txt file\n",
        "file = open(\"data/train.txt\", \"w\") \n",
        "file.write(\"\\n\".join(train_img_list)) \n",
        "file.close() \n",
        "\n",
        "# Create text.txt file\n",
        "file = open(\"data/test.txt\", \"w\") \n",
        "file.write(\"\\n\".join(test_img_list)) \n",
        "file.close() "
      ],
      "execution_count": null,
      "outputs": []
    },
    {
      "cell_type": "markdown",
      "metadata": {
        "id": "CeSiuLrXoAjc"
      },
      "source": [
        "**6) Start Training**"
      ]
    },
    {
      "cell_type": "code",
      "metadata": {
        "id": "S3_g3jclUzMm"
      },
      "source": [
        "!./darknet detector train data/obj.data cfg/yolov3_training.cfg darknet53.conv.74 -dont_show --name yolov3_results  --cache"
      ],
      "execution_count": null,
      "outputs": []
    },
    {
      "cell_type": "markdown",
      "metadata": {
        "id": "EyFCOe_AZ3J3"
      },
      "source": [
        "The below cell is to resume training of a model"
      ]
    },
    {
      "cell_type": "code",
      "metadata": {
        "id": "LEv18Gecamhf"
      },
      "source": [
        "# Weights saved in Google drive\r\n",
        "#!./darknet detector train cfg/obj.data cfg/yolov3_training.cfg /mydrive/yolov3/yolov3_training_last.weights -dont_show\r\n",
        "\r\n",
        "# Weights Saved in Darknet/backup\r\n",
        "!./darknet detector train cfg/obj.data cfg/yolov3_training.cfg backup/yolov3_training_last.weights -dont_show --name yolov3_results  --cache"
      ],
      "execution_count": null,
      "outputs": []
    },
    {
      "cell_type": "markdown",
      "metadata": {
        "id": "5tNi00kjrpYE"
      },
      "source": [
        "**7) Evaluate Training**"
      ]
    },
    {
      "cell_type": "markdown",
      "metadata": {
        "id": "XvPczyfTs8VE"
      },
      "source": [
        "Tracking and visualizing metrics such as loss and accuracy\r\n",
        "\r\n",
        "`--name flag when training`"
      ]
    },
    {
      "cell_type": "code",
      "metadata": {
        "id": "mbfXdtefroEQ"
      },
      "source": [
        "%load_ext tensorboard\r\n",
        "%tensorboard --logdir runs"
      ],
      "execution_count": null,
      "outputs": []
    },
    {
      "cell_type": "markdown",
      "metadata": {
        "id": "KU9T7RmQ9eh2"
      },
      "source": [
        "Calculation mAP (Mean Average Precision)"
      ]
    },
    {
      "cell_type": "code",
      "metadata": {
        "id": "Jdv8cU4-9fbv"
      },
      "source": [
        "# Weights saved in Google drive\r\n",
        "#!./darknet detector map cfg/obj.data cfg/yolov3-voc_training.cfg /mydrive/yolov3/yolov3_training_last.weights -iou_thresh 0.75 -points 0\r\n",
        "\r\n",
        "# Weights saved in darknet/backup\r\n",
        "!./darknet detector map cfg/obj.data cfg/yolov3-voc_training.cfg backup/yolov3_training_last.weights -iou_thresh 0.75 -points 0"
      ],
      "execution_count": null,
      "outputs": []
    },
    {
      "cell_type": "markdown",
      "metadata": {
        "id": "Yf59YpMt3gop"
      },
      "source": [
        "**8) Start Testing**"
      ]
    },
    {
      "cell_type": "markdown",
      "metadata": {
        "id": "bHKmZCLBaxj9"
      },
      "source": [
        "Single image test"
      ]
    },
    {
      "cell_type": "code",
      "metadata": {
        "id": "k-ygU0Hq3g0G"
      },
      "source": [
        "# Weights saved in Google drive\r\n",
        "#!./darknet detector test cfg/obj.data cfg/yolov3_training.cfg backup/yolo-training_last.weights\r\n",
        "\r\n",
        "# Weights saved in darknet/backup\r\n",
        "!./darknet detector test cfg/obj.data cfg/yolov3_training.cfg /mydrive/yolov3/yolov3_training_last.weights"
      ],
      "execution_count": null,
      "outputs": []
    },
    {
      "cell_type": "markdown",
      "metadata": {
        "id": "bdJZmDcxaspT"
      },
      "source": [
        "Perform testing to the whole test set"
      ]
    },
    {
      "cell_type": "code",
      "metadata": {
        "id": "7B4sAKqn3s7V"
      },
      "source": [
        "# Weights saved in Google drive\r\n",
        "#!./darknet detector test cfg/obj.data cfg/yolov3_training.cfg /mydrive/yolov3/yolov3_training_last.weights -dont_show -ext_output < data/test.txt > data/result.txt\r\n",
        "\r\n",
        "# Weights saved in Google drive\r\n",
        "!./darknet detector test cfg/obj.data cfg/yolov3_training.cfg backup/yolo-training_last.weights -dont_show -ext_output < data/test.txt > data/result.txt"
      ],
      "execution_count": null,
      "outputs": []
    },
    {
      "cell_type": "markdown",
      "metadata": {
        "id": "35OCgXLb3syB"
      },
      "source": [
        "**9) Visualize Result**"
      ]
    },
    {
      "cell_type": "markdown",
      "metadata": {
        "id": "UrEJhD21FaO-"
      },
      "source": [
        "Video/Camera Stream"
      ]
    },
    {
      "cell_type": "code",
      "metadata": {
        "id": "Y4dM-TE7FOsT"
      },
      "source": [
        "# Weights saved in Google drive\r\n",
        "#!./darknet detector demo cfg/obj.data cfg/yolov3-voc_training.cfg /mydrive/yolov3/yolov3_training_last.weights\r\n",
        "\r\n",
        "# Weights saved in Google drive\r\n",
        "!./darknet detector demo cfg/obj.data cfg/yolov3-voc_training.cfg backup/yolov3_training_last.weights"
      ],
      "execution_count": null,
      "outputs": []
    },
    {
      "cell_type": "code",
      "metadata": {
        "id": "UOtaUw9heDGM"
      },
      "source": [
        "import glob\r\n",
        "from IPython.display import Image, display\r\n",
        "result_file_path = 'data/result.txt'\r\n",
        "with open(result_file_path, \"r\") as img_txt:\r\n",
        "        lines = img_txt.readlines()\r\n",
        "        print(lines)\r\n",
        "        for line in lines:\r\n",
        "          print(line)\r\n",
        "          display(Image(filename=line))"
      ],
      "execution_count": null,
      "outputs": []
    }
  ]
}